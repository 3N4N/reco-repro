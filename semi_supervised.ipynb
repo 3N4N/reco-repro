{
 "cells": [
  {
   "cell_type": "code",
   "execution_count": 1,
   "metadata": {},
   "outputs": [
    {
     "name": "stderr",
     "output_type": "stream",
     "text": [
      "/local/home/sanjee23/servers/conda/envs/reco/lib/python3.8/site-packages/tqdm/auto.py:21: TqdmWarning: IProgress not found. Please update jupyter and ipywidgets. See https://ipywidgets.readthedocs.io/en/stable/user_install.html\n",
      "  from .autonotebook import tqdm as notebook_tqdm\n"
     ]
    }
   ],
   "source": [
    "import torch\n",
    "import numpy as np\n",
    "from torch import optim, nn\n",
    "from torch.utils.data import DataLoader\n",
    "from tqdm import tqdm\n",
    "import torch.nn.functional as F\n",
    "from torchvision.models.segmentation import fcn_resnet50\n",
    "\n",
    "from data.pascal_data_loader import PascalVOCLoader\n",
    "from network.mean_ts import TeacherModel\n",
    "from train_utils import  *"
   ]
  },
  {
   "cell_type": "code",
   "execution_count": 2,
   "metadata": {},
   "outputs": [],
   "source": [
    "LEARNING_RATE = 2.5e-3 \n",
    "BATCH_SIZE = 32 \n",
    "MOMENTUM = 0.9 \n",
    "WEIGHT_DECAY = 5e-4 \n",
    "POWER = 0.9 \n",
    "TOTAL_ITERATIONS = 40000\n",
    "MAX_EPOCHS = 100\n",
    "EMA_DECAY = 0.99\n",
    "CONF_THRESH = 0.95\n",
    "UNSUP_WEIGHT = 0.5\n",
    "\n",
    "\n",
    "device = torch.device(\"cuda\" if torch.cuda.is_available() else \"cpu\")"
   ]
  },
  {
   "cell_type": "code",
   "execution_count": 3,
   "metadata": {},
   "outputs": [],
   "source": [
    "student_model = fcn_resnet50(pretrained=True).to(device)\n",
    "\n",
    "teacher_model = TeacherModel(student_model, ema_decay=EMA_DECAY).to(device)\n",
    "\n",
    "optimizer = optim.SGD(student_model.parameters(), \n",
    "                     lr=LEARNING_RATE, \n",
    "                     momentum=MOMENTUM, \n",
    "                     weight_decay=WEIGHT_DECAY)\n",
    "criterion = nn.CrossEntropyLoss(ignore_index=-1)"
   ]
  },
  {
   "cell_type": "code",
   "execution_count": 4,
   "metadata": {},
   "outputs": [],
   "source": [
    "loader = PascalVOCLoader(\n",
    "    data_path=\"/local/home/sanjee23/dev/ReCo/dataset/pascal\")\n",
    "train_labeled_loader, train_unlabeled_loader, val_loader = loader.create_loaders(use_unlabeled=True)"
   ]
  },
  {
   "cell_type": "code",
   "execution_count": 6,
   "metadata": {},
   "outputs": [
    {
     "name": "stderr",
     "output_type": "stream",
     "text": [
      "Epoch: 1/100, Iter: 2/40000, Loss: 0.3147, Sup: 0.3070, Unsup: 0.0225, LR: 0.002500, Conf: 0.68:   0%|          | 2/40000 [00:49<275:50:52, 24.83s/it]"
     ]
    },
    {
     "name": "stdout",
     "output_type": "stream",
     "text": [
      "Epoch 1/100\n"
     ]
    },
    {
     "name": "stderr",
     "output_type": "stream",
     "text": [
      "\n"
     ]
    },
    {
     "name": "stdout",
     "output_type": "stream",
     "text": [
      "Epoch 2/100\n"
     ]
    },
    {
     "name": "stderr",
     "output_type": "stream",
     "text": []
    },
    {
     "name": "stdout",
     "output_type": "stream",
     "text": [
      "Epoch 3/100\n"
     ]
    },
    {
     "name": "stderr",
     "output_type": "stream",
     "text": []
    },
    {
     "name": "stdout",
     "output_type": "stream",
     "text": [
      "Epoch 4/100\n"
     ]
    },
    {
     "name": "stderr",
     "output_type": "stream",
     "text": []
    },
    {
     "name": "stdout",
     "output_type": "stream",
     "text": [
      "Epoch 5/100\n"
     ]
    },
    {
     "name": "stderr",
     "output_type": "stream",
     "text": []
    },
    {
     "name": "stdout",
     "output_type": "stream",
     "text": [
      "Epoch 6/100\n"
     ]
    },
    {
     "name": "stderr",
     "output_type": "stream",
     "text": []
    },
    {
     "name": "stdout",
     "output_type": "stream",
     "text": [
      "Epoch 7/100\n"
     ]
    },
    {
     "name": "stderr",
     "output_type": "stream",
     "text": []
    },
    {
     "name": "stdout",
     "output_type": "stream",
     "text": [
      "Epoch 8/100\n"
     ]
    },
    {
     "name": "stderr",
     "output_type": "stream",
     "text": []
    },
    {
     "name": "stdout",
     "output_type": "stream",
     "text": [
      "Epoch 9/100\n"
     ]
    },
    {
     "name": "stderr",
     "output_type": "stream",
     "text": []
    },
    {
     "name": "stdout",
     "output_type": "stream",
     "text": [
      "Epoch 10/100\n"
     ]
    },
    {
     "name": "stderr",
     "output_type": "stream",
     "text": []
    },
    {
     "name": "stdout",
     "output_type": "stream",
     "text": [
      "--------------------------------------------------\n",
      "Epoch: 10/100, Iteration: 2000/40000\n",
      "Validation Loss: 0.8028, Mean IoU: 0.1962\n",
      "--------------------------------------------------\n",
      "Epoch 11/100\n"
     ]
    },
    {
     "name": "stderr",
     "output_type": "stream",
     "text": []
    },
    {
     "name": "stdout",
     "output_type": "stream",
     "text": [
      "Epoch 12/100\n"
     ]
    },
    {
     "name": "stderr",
     "output_type": "stream",
     "text": []
    },
    {
     "name": "stdout",
     "output_type": "stream",
     "text": [
      "Epoch 13/100\n"
     ]
    },
    {
     "name": "stderr",
     "output_type": "stream",
     "text": []
    },
    {
     "name": "stdout",
     "output_type": "stream",
     "text": [
      "Epoch 14/100\n"
     ]
    },
    {
     "name": "stderr",
     "output_type": "stream",
     "text": []
    },
    {
     "name": "stdout",
     "output_type": "stream",
     "text": [
      "Epoch 15/100\n"
     ]
    },
    {
     "name": "stderr",
     "output_type": "stream",
     "text": []
    },
    {
     "name": "stdout",
     "output_type": "stream",
     "text": [
      "Epoch 16/100\n"
     ]
    },
    {
     "name": "stderr",
     "output_type": "stream",
     "text": []
    },
    {
     "name": "stdout",
     "output_type": "stream",
     "text": [
      "Epoch 17/100\n"
     ]
    },
    {
     "name": "stderr",
     "output_type": "stream",
     "text": []
    },
    {
     "name": "stdout",
     "output_type": "stream",
     "text": [
      "Epoch 18/100\n"
     ]
    },
    {
     "name": "stderr",
     "output_type": "stream",
     "text": []
    },
    {
     "name": "stdout",
     "output_type": "stream",
     "text": [
      "Epoch 19/100\n"
     ]
    },
    {
     "name": "stderr",
     "output_type": "stream",
     "text": []
    },
    {
     "name": "stdout",
     "output_type": "stream",
     "text": [
      "Epoch 20/100\n"
     ]
    },
    {
     "name": "stderr",
     "output_type": "stream",
     "text": []
    },
    {
     "name": "stdout",
     "output_type": "stream",
     "text": [
      "--------------------------------------------------\n",
      "Epoch: 20/100, Iteration: 4000/40000\n",
      "Validation Loss: 0.9212, Mean IoU: 0.1648\n",
      "--------------------------------------------------\n",
      "Epoch 21/100\n"
     ]
    },
    {
     "name": "stderr",
     "output_type": "stream",
     "text": []
    },
    {
     "name": "stdout",
     "output_type": "stream",
     "text": [
      "Epoch 22/100\n"
     ]
    },
    {
     "name": "stderr",
     "output_type": "stream",
     "text": []
    },
    {
     "ename": "KeyboardInterrupt",
     "evalue": "",
     "output_type": "error",
     "traceback": [
      "\u001b[0;31m---------------------------------------------------------------------------\u001b[0m",
      "\u001b[0;31mKeyboardInterrupt\u001b[0m                         Traceback (most recent call last)",
      "Cell \u001b[0;32mIn[6], line 36\u001b[0m\n\u001b[1;32m     31\u001b[0m pseudo_labels, conf_mask, confidence \u001b[38;5;241m=\u001b[39m teacher_model\u001b[38;5;241m.\u001b[39mgenerate_pseudo_labels(\n\u001b[1;32m     32\u001b[0m     unlabeled_img, confidence_threshold\u001b[38;5;241m=\u001b[39mCONF_THRESH)\n\u001b[1;32m     34\u001b[0m student_unlabeled_output \u001b[38;5;241m=\u001b[39m student_model(unlabeled_img)[\u001b[38;5;124m'\u001b[39m\u001b[38;5;124mout\u001b[39m\u001b[38;5;124m'\u001b[39m]\n\u001b[0;32m---> 36\u001b[0m unsupervised_loss \u001b[38;5;241m=\u001b[39m \u001b[43mcalculate_unsupervised_loss\u001b[49m\u001b[43m(\u001b[49m\n\u001b[1;32m     37\u001b[0m \u001b[43m    \u001b[49m\u001b[43mstudent_unlabeled_output\u001b[49m\u001b[43m,\u001b[49m\u001b[43m \u001b[49m\u001b[43mpseudo_labels\u001b[49m\u001b[43m,\u001b[49m\u001b[43m \u001b[49m\u001b[43mconf_mask\u001b[49m\u001b[43m)\u001b[49m\n\u001b[1;32m     39\u001b[0m conf_ratio \u001b[38;5;241m=\u001b[39m conf_mask\u001b[38;5;241m.\u001b[39mfloat()\u001b[38;5;241m.\u001b[39mmean()\u001b[38;5;241m.\u001b[39mitem()\n\u001b[1;32m     41\u001b[0m eta \u001b[38;5;241m=\u001b[39m conf_ratio \u001b[38;5;28;01mif\u001b[39;00m conf_ratio \u001b[38;5;241m>\u001b[39m \u001b[38;5;241m0\u001b[39m \u001b[38;5;28;01melse\u001b[39;00m \u001b[38;5;241m0.1\u001b[39m\n",
      "File \u001b[0;32m/local/home/sanjee23/dev/ReCo/train_utils.py:32\u001b[0m, in \u001b[0;36mcalculate_unsupervised_loss\u001b[0;34m(outputs, pseudo_labels, conf_mask)\u001b[0m\n\u001b[1;32m     31\u001b[0m \u001b[38;5;28;01mdef\u001b[39;00m \u001b[38;5;21mcalculate_unsupervised_loss\u001b[39m(outputs, pseudo_labels, conf_mask):\n\u001b[0;32m---> 32\u001b[0m     \u001b[38;5;28;01mif\u001b[39;00m conf_mask\u001b[38;5;241m.\u001b[39msum() \u001b[38;5;241m>\u001b[39m \u001b[38;5;241m0\u001b[39m:\n\u001b[1;32m     33\u001b[0m         outputs \u001b[38;5;241m=\u001b[39m outputs\u001b[38;5;241m.\u001b[39mpermute(\u001b[38;5;241m0\u001b[39m, \u001b[38;5;241m2\u001b[39m, \u001b[38;5;241m3\u001b[39m, \u001b[38;5;241m1\u001b[39m)\n\u001b[1;32m     34\u001b[0m         masked_outputs \u001b[38;5;241m=\u001b[39m outputs[conf_mask]\u001b[38;5;241m.\u001b[39mview(\u001b[38;5;241m-\u001b[39m\u001b[38;5;241m1\u001b[39m, outputs\u001b[38;5;241m.\u001b[39msize(\u001b[38;5;241m3\u001b[39m))\n",
      "\u001b[0;31mKeyboardInterrupt\u001b[0m: "
     ]
    }
   ],
   "source": [
    "val_interval = 2000\n",
    "best_iou = 0\n",
    "total_iterations = 0\n",
    "\n",
    "pbar = tqdm(total=TOTAL_ITERATIONS)\n",
    "\n",
    "for epoch in range(MAX_EPOCHS):\n",
    "    print(f\"Epoch {epoch+1}/{MAX_EPOCHS}\")\n",
    "    \n",
    "    labeled_iter = iter(train_labeled_loader)\n",
    "    unlabeled_iter = iter(train_unlabeled_loader)\n",
    "    \n",
    "    for labeled_batch in train_labeled_loader:\n",
    "        try:\n",
    "            unlabeled_batch = next(unlabeled_iter)\n",
    "        except StopIteration:\n",
    "            unlabeled_iter = iter(train_unlabeled_loader)\n",
    "            unlabeled_batch = next(unlabeled_iter)\n",
    "        \n",
    "        labeled_img = labeled_batch[0].float().to(device)\n",
    "        labeled_mask = labeled_batch[1].long().to(device)\n",
    "        unlabeled_img = unlabeled_batch[0].float().to(device)\n",
    "        \n",
    "        current_lr = adjust_learning_rate(optimizer, LEARNING_RATE, total_iterations, TOTAL_ITERATIONS, POWER)\n",
    "        \n",
    "        student_model.train()\n",
    "        student_labeled_output = student_model(labeled_img)['out']\n",
    "        \n",
    "        supervised_loss = criterion(student_labeled_output, labeled_mask)\n",
    "        \n",
    "        pseudo_labels, conf_mask, confidence = teacher_model.generate_pseudo_labels(\n",
    "            unlabeled_img, confidence_threshold=CONF_THRESH)\n",
    "        \n",
    "        student_unlabeled_output = student_model(unlabeled_img)['out']\n",
    "        \n",
    "        unsupervised_loss = calculate_unsupervised_loss(\n",
    "            student_unlabeled_output, pseudo_labels, conf_mask)\n",
    "        \n",
    "        conf_ratio = conf_mask.float().mean().item()\n",
    "        \n",
    "        eta = conf_ratio if conf_ratio > 0 else 0.1\n",
    "        total_loss = supervised_loss + UNSUP_WEIGHT * eta * unsupervised_loss\n",
    "        \n",
    "        optimizer.zero_grad()\n",
    "        total_loss.backward()\n",
    "        optimizer.step()\n",
    "        \n",
    "        teacher_model.update_weights(student_model)\n",
    "        \n",
    "        total_iterations += 1\n",
    "        pbar.update(1)\n",
    "        pbar.set_description(\n",
    "            f\"Epoch: {epoch+1}/{MAX_EPOCHS}, Iter: {total_iterations}/{TOTAL_ITERATIONS}, \"\n",
    "            f\"Loss: {total_loss.item():.4f}, Sup: {supervised_loss.item():.4f}, \"\n",
    "            f\"Unsup: {unsupervised_loss.item():.4f}, LR: {current_lr:.6f}, Conf: {conf_ratio:.2f}\"\n",
    "        )\n",
    "        \n",
    "        if total_iterations % val_interval == 0:\n",
    "            student_model.eval()\n",
    "            val_running_loss = 0\n",
    "            val_iou = 0\n",
    "            \n",
    "            with torch.no_grad():\n",
    "                for idx, img_mask in enumerate(val_loader):\n",
    "                    img = img_mask[0].float().to(device)\n",
    "                    mask = img_mask[1].long().to(device)\n",
    "                    \n",
    "                    y_pred = student_model(img)['out']\n",
    "                    loss = criterion(y_pred, mask)\n",
    "                    \n",
    "                    batch_iou = compute_iou(y_pred, mask)\n",
    "                    val_iou += batch_iou\n",
    "                    val_running_loss += loss.item()\n",
    "                \n",
    "                val_loss = val_running_loss / (idx + 1)\n",
    "                mean_iou = val_iou / (idx + 1)\n",
    "            \n",
    "            print(\"-\"*50)\n",
    "            print(f\"Epoch: {epoch+1}/{MAX_EPOCHS}, Iteration: {total_iterations}/{TOTAL_ITERATIONS}\")\n",
    "            print(f\"Validation Loss: {val_loss:.4f}, Mean IoU: {mean_iou:.4f}\")\n",
    "            print(\"-\"*50)\n",
    "            \n",
    "            if mean_iou > best_iou:\n",
    "                best_iou = mean_iou\n",
    "                torch.save(student_model.state_dict(), \"checkpoints/best_student_model.pth\")\n",
    "        \n",
    "        if total_iterations % 10000 == 0:\n",
    "            torch.save({\n",
    "                'epoch': epoch + 1,\n",
    "                'iteration': total_iterations,\n",
    "                'student_model_state_dict': student_model.state_dict(),\n",
    "                'teacher_model_state_dict': teacher_model.model.state_dict(),\n",
    "                'optimizer_state_dict': optimizer.state_dict(),\n",
    "                'loss': total_loss,\n",
    "            }, f\"checkpoints/checkpoint_iter_{total_iterations}.pth\")\n",
    "        \n",
    "        if total_iterations >= TOTAL_ITERATIONS:\n",
    "            break\n",
    "    \n",
    "    if total_iterations >= TOTAL_ITERATIONS:\n",
    "        print(f\"Reached {TOTAL_ITERATIONS} iterations. Stopping training.\")\n",
    "        break\n",
    "\n",
    "pbar.close()\n",
    "print(f\"Training completed! Best validation IoU: {best_iou:.4f}\")\n",
    "torch.save(student_model.state_dict(), \"checkpoints/final_student_model.pth\")"
   ]
  },
  {
   "cell_type": "code",
   "execution_count": null,
   "metadata": {},
   "outputs": [],
   "source": []
  }
 ],
 "metadata": {
  "kernelspec": {
   "display_name": "cove",
   "language": "python",
   "name": "python3"
  },
  "language_info": {
   "codemirror_mode": {
    "name": "ipython",
    "version": 3
   },
   "file_extension": ".py",
   "mimetype": "text/x-python",
   "name": "python",
   "nbconvert_exporter": "python",
   "pygments_lexer": "ipython3",
   "version": "3.8.20"
  }
 },
 "nbformat": 4,
 "nbformat_minor": 2
}
