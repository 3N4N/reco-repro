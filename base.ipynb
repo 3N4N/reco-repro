{
 "cells": [
  {
   "cell_type": "code",
   "execution_count": 16,
   "metadata": {},
   "outputs": [],
   "source": [
    "import torch\n",
    "import numpy as np\n",
    "from torch import optim, nn\n",
    "from torch.utils.data import DataLoader, random_split\n",
    "from tqdm import tqdm\n",
    "from torchvision.models.segmentation import fcn_resnet50\n",
    "\n",
    "from data.pascal_voc_dataset import PascalVOCSegmentation\n",
    "from data.utils import get_pascal_dataloader\n",
    "from data.pascal_data_loader import PascalVOCLoader"
   ]
  },
  {
   "cell_type": "code",
   "execution_count": 17,
   "metadata": {},
   "outputs": [],
   "source": [
    "! setenv CUDA_VISIBLE_DEVICES 0,1"
   ]
  },
  {
   "cell_type": "code",
   "execution_count": 18,
   "metadata": {},
   "outputs": [],
   "source": [
    "LEARNING_RATE = 2.5e-3\n",
    "BATCH_SIZE = 32\n",
    "MOMENTUM = 0.9\n",
    "WEIGHT_DECAY = 5e-4\n",
    "POWER = 0.9\n",
    "TOTAL_ITERATIONS = 40000\n",
    "DATA_ROOT = \".\"\n",
    "NUM_WORKERS = 0\n",
    "\n",
    "device = \"cuda\" if torch.cuda.is_available() else \"cpu\""
   ]
  },
  {
   "cell_type": "code",
   "execution_count": 19,
   "metadata": {},
   "outputs": [],
   "source": [
    "loader = PascalVOCLoader(\n",
    "    data_path=\"/local/home/sanjee23/dev/ReCo/dataset/pascal\")\n",
    "train_loader, val_loader = loader.create_loaders(use_unlabeled=False)"
   ]
  },
  {
   "cell_type": "code",
   "execution_count": 20,
   "metadata": {},
   "outputs": [
    {
     "data": {
      "text/plain": [
       "200"
      ]
     },
     "execution_count": 20,
     "metadata": {},
     "output_type": "execute_result"
    }
   ],
   "source": [
    "len(train_loader)"
   ]
  },
  {
   "cell_type": "code",
   "execution_count": 21,
   "metadata": {},
   "outputs": [],
   "source": [
    "model = fcn_resnet50(pretrained=True).to(device)\n",
    "\n",
    "optimizer = optim.SGD(model.parameters(), lr=LEARNING_RATE, \n",
    "                      momentum=MOMENTUM, weight_decay=WEIGHT_DECAY)\n",
    "criterion = nn.CrossEntropyLoss(ignore_index=-1) "
   ]
  },
  {
   "cell_type": "code",
   "execution_count": 22,
   "metadata": {},
   "outputs": [],
   "source": [
    "def compute_iou(outputs, targets):\n",
    "    smooth = 1e-6\n",
    "    preds = torch.argmax(outputs, dim=1)\n",
    "    \n",
    "    ious = []\n",
    "    for cls in range(1, 21): \n",
    "        pred_inds = preds == cls\n",
    "        target_inds = targets == cls\n",
    "        \n",
    "        intersection = (pred_inds & target_inds).float().sum()\n",
    "        union = (pred_inds | target_inds).float().sum()\n",
    "        \n",
    "        if union.item() > 0:\n",
    "            iou = (intersection + smooth) / (union + smooth)\n",
    "            ious.append(iou.item())\n",
    "    \n",
    "    return np.mean(ious) if ious else 0"
   ]
  },
  {
   "cell_type": "code",
   "execution_count": 23,
   "metadata": {},
   "outputs": [],
   "source": [
    "def adjust_learning_rate(optimizer, initial_lr, iter, total_iter, power=0.9):\n",
    "    lr = initial_lr * (1 - iter / total_iter) ** power\n",
    "    for param_group in optimizer.param_groups:\n",
    "        param_group['lr'] = lr\n",
    "    return lr"
   ]
  },
  {
   "cell_type": "code",
   "execution_count": 24,
   "metadata": {},
   "outputs": [
    {
     "name": "stderr",
     "output_type": "stream",
     "text": [
      "Iter: 2000/40000, Loss: 0.0380, LR: 0.002387:   5%|▌         | 2000/40000 [12:34<3:56:55,  2.67it/s]"
     ]
    },
    {
     "name": "stdout",
     "output_type": "stream",
     "text": [
      "--------------------------------------------------\n",
      "Iteration: 2000/40000\n",
      "Validation Loss: 0.7023, Mean IoU: 0.2240\n",
      "--------------------------------------------------\n"
     ]
    },
    {
     "name": "stderr",
     "output_type": "stream",
     "text": [
      "Iter: 3717/40000, Loss: 0.0269, LR: 0.002290:   9%|▉         | 3717/40000 [23:46<3:48:01,  2.65it/s] "
     ]
    }
   ],
   "source": [
    "iteration = 0\n",
    "val_interval = 2000  \n",
    "best_iou = 0\n",
    "\n",
    "train_iter = iter(train_loader)\n",
    "pbar = tqdm(total=TOTAL_ITERATIONS)\n",
    "\n",
    "while iteration < TOTAL_ITERATIONS:\n",
    "    model.train()\n",
    "    \n",
    "    try:\n",
    "        img_mask = next(train_iter)\n",
    "    except StopIteration:\n",
    "        train_iter = iter(train_loader)\n",
    "        img_mask = next(train_iter)\n",
    "    \n",
    "    img = img_mask[0].float().to(device)\n",
    "    mask = img_mask[1].long().to(device)\n",
    "    \n",
    "    current_lr = adjust_learning_rate(optimizer, LEARNING_RATE, iteration, TOTAL_ITERATIONS, POWER)\n",
    "    \n",
    "    y_pred = model(img)['out']\n",
    "    optimizer.zero_grad()\n",
    "    \n",
    "    loss = criterion(y_pred, mask)\n",
    "    \n",
    "    loss.backward()\n",
    "    optimizer.step()\n",
    "    \n",
    "    iteration += 1\n",
    "    pbar.update(1)\n",
    "    pbar.set_description(f\"Iter: {iteration}/{TOTAL_ITERATIONS}, Loss: {loss.item():.4f}, LR: {current_lr:.6f}\")\n",
    "    \n",
    "    if iteration % val_interval == 0:\n",
    "        model.eval()\n",
    "        val_running_loss = 0\n",
    "        val_iou = 0\n",
    "        \n",
    "        with torch.no_grad():\n",
    "            for idx, img_mask in enumerate(val_loader):\n",
    "                img = img_mask[0].float().to(device)\n",
    "                mask = img_mask[1].long().to(device)\n",
    "                \n",
    "                y_pred = model(img)['out']\n",
    "                loss = criterion(y_pred, mask)\n",
    "                \n",
    "                batch_iou = compute_iou(y_pred, mask)\n",
    "                val_iou += batch_iou\n",
    "                val_running_loss += loss.item()\n",
    "            \n",
    "            val_loss = val_running_loss / (idx + 1)\n",
    "            mean_iou = val_iou / (idx + 1)\n",
    "        \n",
    "        print(\"-\"*50)\n",
    "        print(f\"Iteration: {iteration}/{TOTAL_ITERATIONS}\")\n",
    "        print(f\"Validation Loss: {val_loss:.4f}, Mean IoU: {mean_iou:.4f}\")\n",
    "        print(\"-\"*50)\n",
    "        \n",
    "        if mean_iou > best_iou:\n",
    "            best_iou = mean_iou\n",
    "            torch.save(model.state_dict(), \"checkpoints/best_model.pth\")\n",
    "    \n",
    "    if iteration % 10000 == 0:\n",
    "        torch.save({\n",
    "            'iteration': iteration,\n",
    "            'model_state_dict': model.state_dict(),\n",
    "            'optimizer_state_dict': optimizer.state_dict(),\n",
    "            'loss': loss,\n",
    "        }, f\"checkpoints/checkpoint_iter_{iteration}.pth\")\n",
    "\n",
    "pbar.close()\n",
    "print(f\"Training completed! Best validation IoU: {best_iou:.4f}\")\n",
    "torch.save(model.state_dict(), \"checkpoints/final_model.pth\")"
   ]
  },
  {
   "cell_type": "code",
   "execution_count": null,
   "metadata": {},
   "outputs": [],
   "source": []
  }
 ],
 "metadata": {
  "kernelspec": {
   "display_name": "reco",
   "language": "python",
   "name": "python3"
  },
  "language_info": {
   "codemirror_mode": {
    "name": "ipython",
    "version": 3
   },
   "file_extension": ".py",
   "mimetype": "text/x-python",
   "name": "python",
   "nbconvert_exporter": "python",
   "pygments_lexer": "ipython3",
   "version": "3.8.20"
  }
 },
 "nbformat": 4,
 "nbformat_minor": 2
}
