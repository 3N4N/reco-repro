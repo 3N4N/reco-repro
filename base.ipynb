{
 "cells": [
  {
   "cell_type": "code",
   "execution_count": 12,
   "metadata": {},
   "outputs": [],
   "source": [
    "import torch\n",
    "import numpy as np\n",
    "from torch import optim, nn\n",
    "from torch.utils.data import DataLoader, random_split\n",
    "from tqdm import tqdm\n",
    "from torchvision.models.segmentation import fcn_resnet50\n",
    "\n",
    "from data.pascal_voc_dataset import PascalVOCSegmentation\n",
    "from data.utils import get_pascal_dataloader"
   ]
  },
  {
   "cell_type": "code",
   "execution_count": 13,
   "metadata": {},
   "outputs": [],
   "source": [
    "! setenv CUDA_VISIBLE_DEVICES 0,1"
   ]
  },
  {
   "cell_type": "code",
   "execution_count": 14,
   "metadata": {},
   "outputs": [],
   "source": [
    "LEARNING_RATE = 3e-4\n",
    "BATCH_SIZE = 32\n",
    "EPOCHS = 2\n",
    "DATA_ROOT = \".\"\n",
    "num_workers = 0\n",
    "\n",
    "device = \"cuda\" if torch.cuda.is_available() else \"cpu\""
   ]
  },
  {
   "cell_type": "code",
   "execution_count": 15,
   "metadata": {},
   "outputs": [],
   "source": [
    "train_dataset = PascalVOCSegmentation(\n",
    "    root_dir=DATA_ROOT,\n",
    "    split=\"train\",\n",
    "    input_size=513\n",
    ")\n",
    "\n",
    "val_dataset = PascalVOCSegmentation(\n",
    "    root_dir=DATA_ROOT,\n",
    "    split=\"val\",\n",
    "    input_size=513\n",
    ")\n",
    "\n",
    "train_dataloader = DataLoader(\n",
    "    train_dataset,\n",
    "    batch_size=BATCH_SIZE,\n",
    "    shuffle=True,\n",
    "    num_workers=num_workers,\n",
    "    pin_memory=True,\n",
    "    drop_last=True\n",
    "    \n",
    ")\n",
    "\n",
    "val_dataloader = DataLoader(\n",
    "    val_dataset,\n",
    "    batch_size=BATCH_SIZE,\n",
    "    shuffle=False,\n",
    "    num_workers=num_workers,\n",
    "    pin_memory=True,\n",
    "    drop_last=False\n",
    ")"
   ]
  },
  {
   "cell_type": "code",
   "execution_count": 16,
   "metadata": {},
   "outputs": [
    {
     "data": {
      "text/plain": [
       "45"
      ]
     },
     "execution_count": 16,
     "metadata": {},
     "output_type": "execute_result"
    }
   ],
   "source": [
    "len(train_dataloader)"
   ]
  },
  {
   "cell_type": "code",
   "execution_count": 17,
   "metadata": {},
   "outputs": [],
   "source": [
    "model = fcn_resnet50(pretrained=True).to(device)\n",
    "\n",
    "optimizer = optim.AdamW(model.parameters(), lr=LEARNING_RATE)\n",
    "criterion = nn.CrossEntropyLoss(ignore_index=-1) "
   ]
  },
  {
   "cell_type": "code",
   "execution_count": 18,
   "metadata": {},
   "outputs": [],
   "source": [
    "def compute_iou(outputs, targets):\n",
    "    smooth = 1e-6\n",
    "    preds = torch.argmax(outputs, dim=1)\n",
    "    \n",
    "    ious = []\n",
    "    for cls in range(1, 21): \n",
    "        pred_inds = preds == cls\n",
    "        target_inds = targets == cls\n",
    "        \n",
    "        intersection = (pred_inds & target_inds).float().sum()\n",
    "        union = (pred_inds | target_inds).float().sum()\n",
    "        \n",
    "        if union.item() > 0:\n",
    "            iou = (intersection + smooth) / (union + smooth)\n",
    "            ious.append(iou.item())\n",
    "    \n",
    "    return np.mean(ious) if ious else 0"
   ]
  },
  {
   "cell_type": "code",
   "execution_count": 19,
   "metadata": {},
   "outputs": [
    {
     "name": "stderr",
     "output_type": "stream",
     "text": [
      "100%|██████████| 45/45 [01:22<00:00,  1.82s/it]\n",
      "100%|██████████| 46/46 [00:35<00:00,  1.29it/s]\n",
      " 50%|█████     | 1/2 [01:57<01:57, 117.77s/it]"
     ]
    },
    {
     "name": "stdout",
     "output_type": "stream",
     "text": [
      "------------------------------\n",
      "Train Loss EPOCH 1: 0.4838\n",
      "Valid Loss EPOCH 1: 0.4704\n",
      "Mean IoU EPOCH 1: 0.3017\n",
      "------------------------------\n"
     ]
    },
    {
     "name": "stderr",
     "output_type": "stream",
     "text": []
    }
   ],
   "source": [
    "for epoch in tqdm(range(EPOCHS)):\n",
    "    model.train()\n",
    "    train_running_loss = 0\n",
    "    for idx, img_mask in enumerate(tqdm(train_dataloader)):\n",
    "        img = img_mask[0].float().to(device)\n",
    "        mask = img_mask[1].long().to(device)\n",
    "\n",
    "        y_pred = model(img)['out'] \n",
    "        optimizer.zero_grad()\n",
    "\n",
    "        loss = criterion(y_pred, mask)\n",
    "        train_running_loss += loss.item()\n",
    "        \n",
    "        loss.backward()\n",
    "        optimizer.step()\n",
    "\n",
    "    train_loss = train_running_loss / (idx + 1)\n",
    "\n",
    "    model.eval()\n",
    "    val_running_loss = 0\n",
    "    val_iou = 0\n",
    "    with torch.no_grad():\n",
    "        for idx, img_mask in enumerate(tqdm(val_dataloader)):\n",
    "            img = img_mask[0].float().to(device)\n",
    "            mask = img_mask[1].long().to(device)\n",
    "            \n",
    "            y_pred = model(img)['out'] \n",
    "            loss = criterion(y_pred, mask)\n",
    "            \n",
    "            batch_iou = compute_iou(y_pred, mask)\n",
    "            val_iou += batch_iou\n",
    "\n",
    "            val_running_loss += loss.item()\n",
    "\n",
    "        val_loss = val_running_loss / (idx + 1)\n",
    "        mean_iou = val_iou / (idx + 1)\n",
    "\n",
    "    print(\"-\"*30)\n",
    "    print(f\"Train Loss EPOCH {epoch+1}: {train_loss:.4f}\")\n",
    "    print(f\"Valid Loss EPOCH {epoch+1}: {val_loss:.4f}\")\n",
    "    print(f\"Mean IoU EPOCH {epoch+1}: {mean_iou:.4f}\")\n",
    "    print(\"-\"*30)\n",
    "\n",
    "torch.save(model.state_dict(), \".\")"
   ]
  },
  {
   "cell_type": "code",
   "execution_count": null,
   "metadata": {},
   "outputs": [],
   "source": []
  }
 ],
 "metadata": {
  "kernelspec": {
   "display_name": "reco",
   "language": "python",
   "name": "python3"
  },
  "language_info": {
   "codemirror_mode": {
    "name": "ipython",
    "version": 3
   },
   "file_extension": ".py",
   "mimetype": "text/x-python",
   "name": "python",
   "nbconvert_exporter": "python",
   "pygments_lexer": "ipython3",
   "version": "3.8.20"
  }
 },
 "nbformat": 4,
 "nbformat_minor": 2
}
