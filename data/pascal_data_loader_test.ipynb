{
 "cells": [
  {
   "cell_type": "code",
   "execution_count": 5,
   "metadata": {},
   "outputs": [],
   "source": [
    "import torch\n",
    "from data_loader import PascalVOCLoader"
   ]
  },
  {
   "cell_type": "code",
   "execution_count": 2,
   "metadata": {},
   "outputs": [],
   "source": [
    "loader = PascalVOCLoader(data_path=\"/local/home/sanjee23/dev/ReCo/dataset/pascal\")\n",
    "train_loader, val_loader = loader.create_loaders(use_unlabeled=False)\n",
    "\n",
    "partial_loader = PascalVOCLoader(\n",
    "    data_path=\"/local/home/sanjee23/dev/ReCo/dataset/pascal\",\n",
    "    num_labeled=60,  # Use 60 labeled images\n",
    "    label_ratio=\"p5\",  # 5% labels per class per image\n",
    "    seed=42 \n",
    ")\n",
    "labeled_loader, unlabeled_loader, val_loader = partial_loader.create_loaders(use_unlabeled=True)"
   ]
  },
  {
   "cell_type": "code",
   "execution_count": 3,
   "metadata": {},
   "outputs": [
    {
     "name": "stdout",
     "output_type": "stream",
     "text": [
      "200 363\n",
      "200 200 363\n"
     ]
    }
   ],
   "source": [
    "print(len(train_loader), len(val_loader))\n",
    "print(len(labeled_loader), len(unlabeled_loader), len(val_loader))"
   ]
  },
  {
   "cell_type": "code",
   "execution_count": 6,
   "metadata": {},
   "outputs": [
    {
     "name": "stdout",
     "output_type": "stream",
     "text": [
      "Batch image shape: torch.Size([20, 3, 321, 321])\n",
      "Batch label shape: torch.Size([20, 321, 321])\n",
      "Label classes: tensor([-1,  0,  8,  9, 11, 12, 15, 19, 20])\n"
     ]
    }
   ],
   "source": [
    "for images, labels in train_loader:\n",
    "    print(f\"Batch image shape: {images.shape}\")\n",
    "    print(f\"Batch label shape: {labels.shape}\")\n",
    "    print(f\"Label classes: {torch.unique(labels)}\")\n",
    "    break"
   ]
  }
 ],
 "metadata": {
  "kernelspec": {
   "display_name": "reco",
   "language": "python",
   "name": "python3"
  },
  "language_info": {
   "codemirror_mode": {
    "name": "ipython",
    "version": 3
   },
   "file_extension": ".py",
   "mimetype": "text/x-python",
   "name": "python",
   "nbconvert_exporter": "python",
   "pygments_lexer": "ipython3",
   "version": "3.8.20"
  }
 },
 "nbformat": 4,
 "nbformat_minor": 2
}
