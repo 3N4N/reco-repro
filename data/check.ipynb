{
 "cells": [
  {
   "cell_type": "code",
   "execution_count": 1,
   "metadata": {},
   "outputs": [
    {
     "name": "stderr",
     "output_type": "stream",
     "text": [
      "/local/home/sanjee23/servers/conda/envs/reco/lib/python3.8/site-packages/tqdm/auto.py:21: TqdmWarning: IProgress not found. Please update jupyter and ipywidgets. See https://ipywidgets.readthedocs.io/en/stable/user_install.html\n",
      "  from .autonotebook import tqdm as notebook_tqdm\n"
     ]
    }
   ],
   "source": [
    "import os\n",
    "import glob\n",
    "import numpy as np\n",
    "import torch\n",
    "from torch.utils.data import Dataset, DataLoader\n",
    "from PIL import Image\n",
    "import torchvision.transforms.functional as F"
   ]
  },
  {
   "cell_type": "code",
   "execution_count": 2,
   "metadata": {},
   "outputs": [],
   "source": [
    "class CityScapesDataset(Dataset):\n",
    "    def __init__(self, data_dir, mode='train', target_size=(512, 1024)):\n",
    "        self.data_dir = data_dir\n",
    "        self.mode = mode\n",
    "        self.target_size = target_size\n",
    "        \n",
    "        self.image_paths = sorted(glob.glob(os.path.join(data_dir, f'images/{mode}/*.png')))\n",
    "        \n",
    "        self.id_to_trainid = {\n",
    "            7: 0, 8: 1, 11: 2, 12: 3, 13: 4, 17: 5, 19: 6, 20: 7, 21: 8, 22: 9,\n",
    "            23: 10, 24: 11, 25: 12, 26: 13, 27: 14, 28: 15, 31: 16, 32: 17, 33: 18\n",
    "        }\n",
    "        \n",
    "        self.background_ids = [0, 1, 2, 3, 4, 5, 6, 9, 10, 14, 15, 16, 18, 29, 30]\n",
    "    \n",
    "    def __len__(self):\n",
    "        return len(self.image_paths)\n",
    "    \n",
    "    def _map_labels(self, label_array):\n",
    "        height, width = label_array.shape\n",
    "        mapped_labels = np.ones((height, width), dtype=np.uint8) * 255\n",
    "        \n",
    "        for orig_id, train_id in self.id_to_trainid.items():\n",
    "            mapped_labels[label_array == orig_id] = train_id\n",
    "            \n",
    "        return mapped_labels\n",
    "    \n",
    "    def __getitem__(self, idx):\n",
    "        img_path = self.image_paths[idx]\n",
    "        \n",
    "        img_name = os.path.basename(img_path)\n",
    "        label_path = os.path.join(self.data_dir, f'labels/{self.mode}/{img_name}')\n",
    "        \n",
    "        image = Image.open(img_path).convert('RGB')\n",
    "        label = Image.open(label_path)\n",
    "        \n",
    "        image = image.resize(self.target_size[::-1], Image.BILINEAR)\n",
    "        label = label.resize(self.target_size[::-1], Image.NEAREST)\n",
    "        \n",
    "        image_array = np.array(image)\n",
    "        label_array = np.array(label)\n",
    "        \n",
    "        mapped_label = self._map_labels(label_array)\n",
    "        \n",
    "        image_tensor = F.to_tensor(image)\n",
    "        label_tensor = torch.from_numpy(mapped_label).long()\n",
    "        \n",
    "        image_tensor = F.normalize(\n",
    "            image_tensor, \n",
    "            mean=[0.485, 0.456, 0.406], \n",
    "            std=[0.229, 0.224, 0.225]\n",
    "        )\n",
    "        \n",
    "        return image_tensor, label_tensor"
   ]
  },
  {
   "cell_type": "code",
   "execution_count": null,
   "metadata": {},
   "outputs": [],
   "source": [
    "data_root = \"../\"\n",
    "batch_size = 32\n",
    "num_workers = 1\n",
    "data_dir='path/to/cityscapes',\n",
    "batch_size=4,\n",
    "mode='train'\n",
    "\n",
    "dataset = CityScapesDataset(\n",
    "    data_dir=data_dir,\n",
    "    mode=mode,\n",
    "    target_size=target_size\n",
    ")\n",
    "\n",
    "shuffle = mode == 'train'\n",
    "\n",
    "dataloader = DataLoader(\n",
    "    dataset,\n",
    "    batch_size=batch_size,\n",
    "    shuffle=shuffle,\n",
    "    num_workers=num_workers,\n",
    "    pin_memory=True,\n",
    "    drop_last=shuffle\n",
    ")\n",
    "    "
   ]
  },
  {
   "cell_type": "code",
   "execution_count": null,
   "metadata": {},
   "outputs": [],
   "source": [
    "print(f\"Train dataset size: {len(train_loader.dataset)}\")\n",
    "print(f\"Val dataset size: {len(val_loader.dataset)}\")\n",
    "    \n",
    "for images, labels in train_loader:\n",
    "    print(f\"Batch image shape: {images.shape}\")\n",
    "    print(f\"Batch label shape: {labels.shape}\")\n",
    "    print(f\"Label classes: {torch.unique(labels)}\")\n",
    "    break"
   ]
  }
 ],
 "metadata": {
  "kernelspec": {
   "display_name": "reco",
   "language": "python",
   "name": "python3"
  },
  "language_info": {
   "codemirror_mode": {
    "name": "ipython",
    "version": 3
   },
   "file_extension": ".py",
   "mimetype": "text/x-python",
   "name": "python",
   "nbconvert_exporter": "python",
   "pygments_lexer": "ipython3",
   "version": "3.8.20"
  }
 },
 "nbformat": 4,
 "nbformat_minor": 2
}
