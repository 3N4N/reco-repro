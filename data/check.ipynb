{
 "cells": [
  {
   "cell_type": "code",
   "execution_count": null,
   "metadata": {},
   "outputs": [],
   "source": [
    "import os\n",
    "import numpy as np\n",
    "import torch\n",
    "from torch.utils.data import Dataset, DataLoader\n",
    "from PIL import Image\n",
    "import torchvision.transforms.functional as TF"
   ]
  },
  {
   "cell_type": "code",
   "execution_count": null,
   "metadata": {},
   "outputs": [],
   "source": [
    "class PascalVOCSegmentation(Dataset):\n",
    "    \n",
    "    def __init__(self, root_dir, split='train', input_size=513):\n",
    "        self.root_dir = root_dir\n",
    "        self.split = split\n",
    "        self.input_size = input_size\n",
    "        \n",
    "        split_file = os.path.join(\n",
    "            root_dir, \n",
    "            'dataset', \n",
    "            'pascal_voc', \n",
    "            'ImageSets', \n",
    "            'Segmentation', \n",
    "            f'{split}.txt'\n",
    "        )\n",
    "        \n",
    "        with open(split_file, 'r') as f:\n",
    "            self.image_ids = [line.strip() for line in f.readlines()]\n",
    "    \n",
    "    def __len__(self):\n",
    "        return len(self.image_ids)\n",
    "    \n",
    "    def __getitem__(self, idx):\n",
    "        img_id = self.image_ids[idx]\n",
    "        \n",
    "        img_path = os.path.join(\n",
    "            self.root_dir, \n",
    "            'dataset', \n",
    "            'pascal_voc', \n",
    "            'JPEGImages', \n",
    "            f'{img_id}.jpg'\n",
    "        )\n",
    "        img = Image.open(img_path).convert('RGB')\n",
    "        \n",
    "        mask_path = os.path.join(\n",
    "            self.root_dir, \n",
    "            'dataset', \n",
    "            'pascal_voc', \n",
    "            'SegmentationClass', \n",
    "            f'{img_id}.png'\n",
    "        )\n",
    "        mask = Image.open(mask_path)\n",
    "        \n",
    "        img = img.resize((self.input_size, self.input_size), Image.BILINEAR)\n",
    "        mask = mask.resize((self.input_size, self.input_size), Image.NEAREST)\n",
    "        img = TF.to_tensor(img)\n",
    "        mask = torch.from_numpy(np.array(mask)).long()\n",
    "        img = TF.normalize(img, mean=[0.485, 0.456, 0.406], std=[0.229, 0.224, 0.225])\n",
    "        mask[mask == 255] = -1\n",
    "        \n",
    "        return img, mask\n",
    "\n"
   ]
  },
  {
   "cell_type": "code",
   "execution_count": null,
   "metadata": {},
   "outputs": [],
   "source": [
    "data_root = \"../\"\n",
    "batch_size = 32\n",
    "num_workers = 1\n",
    "\n",
    "train_loader, train_dataset = get_pascal_dataloader(\n",
    "    root_dir=data_root,\n",
    "    split='train',\n",
    "    batch_size=8\n",
    ")"
   ]
  },
  {
   "cell_type": "code",
   "execution_count": null,
   "metadata": {},
   "outputs": [],
   "source": [
    "print(f\"Train dataset: {len(train_dataset)} images\")"
   ]
  }
 ],
 "metadata": {
  "kernelspec": {
   "display_name": "reco",
   "language": "python",
   "name": "python3"
  },
  "language_info": {
   "codemirror_mode": {
    "name": "ipython",
    "version": 3
   },
   "file_extension": ".py",
   "mimetype": "text/x-python",
   "name": "python",
   "nbconvert_exporter": "python",
   "pygments_lexer": "ipython3",
   "version": "3.8.20"
  }
 },
 "nbformat": 4,
 "nbformat_minor": 2
}
